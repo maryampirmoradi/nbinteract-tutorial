{
 "cells": [
  {
   "cell_type": "code",
   "execution_count": 6,
   "id": "ae4fc209",
   "metadata": {},
   "outputs": [],
   "source": [
    "import seaborn as sns\n",
    "from matplotlib import pyplot as plt\n",
    "import ipywidgets as widgets\n",
    "import os\n",
    "import nbinteract"
   ]
  },
  {
   "cell_type": "code",
   "execution_count": 7,
   "id": "a072d137",
   "metadata": {},
   "outputs": [],
   "source": [
    "cars = sns.load_dataset('mpg')\n",
    "\n",
    "def bandwidth_widget(bw = 1):\n",
    "    sns.kdeplot(cars.horsepower, lw=3, fill=True, bw_adjust=bw)\n",
    "    \n",
    "    plt.xlim(-30,300)\n",
    "    plt.ylim(0,0.03)"
   ]
  },
  {
   "cell_type": "code",
   "execution_count": 8,
   "id": "7a37e174",
   "metadata": {},
   "outputs": [
    {
     "data": {
      "application/vnd.jupyter.widget-view+json": {
       "model_id": "e7efbdf629954da4a36421d0daac4921",
       "version_major": 2,
       "version_minor": 0
      },
      "text/plain": [
       "interactive(children=(FloatSlider(value=1.0, description='bw', max=3.0, min=0.1), Output()), _dom_classes=('wi…"
      ]
     },
     "metadata": {},
     "output_type": "display_data"
    },
    {
     "data": {
      "text/plain": [
       "<function __main__.bandwidth_widget(bw=1)>"
      ]
     },
     "execution_count": 8,
     "metadata": {},
     "output_type": "execute_result"
    }
   ],
   "source": [
    "widgets.interact(bandwidth_widget, bw=(0.1,3))"
   ]
  },
  {
   "cell_type": "code",
   "execution_count": 9,
   "id": "0d70a4bf",
   "metadata": {},
   "outputs": [
    {
     "data": {
      "application/vnd.jupyter.widget-view+json": {
       "model_id": "056f0f0705b644d0afb2fc8af374f7f6",
       "version_major": 2,
       "version_minor": 0
      },
      "text/plain": [
       "interactive(children=(FloatSlider(value=1.0, description='bw', max=3.0, min=0.1), Output()), _dom_classes=('wi…"
      ]
     },
     "metadata": {},
     "output_type": "display_data"
    }
   ],
   "source": [
    "@widgets.interact(bw = (0.1, 3, 0.1))\n",
    "\n",
    "def bandwidth_widget(bw = 1):\n",
    "    sns.kdeplot(cars.horsepower, lw=3, fill=True, bw_adjust=bw)\n",
    "    \n",
    "    plt.xlim(-30,300)\n",
    "    plt.ylim(0,0.03)"
   ]
  },
  {
   "cell_type": "code",
   "execution_count": 10,
   "id": "3eef6e40",
   "metadata": {},
   "outputs": [
    {
     "ename": "SyntaxError",
     "evalue": "invalid syntax (<ipython-input-10-d1b8fa3bebe9>, line 2)",
     "output_type": "error",
     "traceback": [
      "\u001b[1;36m  File \u001b[1;32m\"<ipython-input-10-d1b8fa3bebe9>\"\u001b[1;36m, line \u001b[1;32m2\u001b[0m\n\u001b[1;33m    nbinteract widgets_html_ex.ipynb\u001b[0m\n\u001b[1;37m               ^\u001b[0m\n\u001b[1;31mSyntaxError\u001b[0m\u001b[1;31m:\u001b[0m invalid syntax\n"
     ]
    }
   ],
   "source": [
    "#os.system('jupyter nbconvert --to html widgets_html_ex.ipynb')\n",
    "nbinteract widgets_html_ex.ipynb"
   ]
  }
 ],
 "metadata": {
  "kernelspec": {
   "display_name": "Python 3",
   "language": "python",
   "name": "python3"
  },
  "language_info": {
   "codemirror_mode": {
    "name": "ipython",
    "version": 3
   },
   "file_extension": ".py",
   "mimetype": "text/x-python",
   "name": "python",
   "nbconvert_exporter": "python",
   "pygments_lexer": "ipython3",
   "version": "3.8.8"
  }
 },
 "nbformat": 4,
 "nbformat_minor": 5
}
